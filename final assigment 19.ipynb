{
 "cells": [
  {
   "cell_type": "markdown",
   "id": "d350e2f6-e861-41a5-8bb4-602a263efaff",
   "metadata": {},
   "source": [
    "Create a program that takes a string as input and removes all the spaces from it. Print the modified string without spaces."
   ]
  },
  {
   "cell_type": "code",
   "execution_count": 1,
   "id": "1b9316b6-fc81-417b-ae1c-5695dc32a4e3",
   "metadata": {},
   "outputs": [],
   "source": [
    "R1 = \"     kapoil     \""
   ]
  },
  {
   "cell_type": "code",
   "execution_count": 3,
   "id": "453b7bd8-151a-40b3-85fd-ebbb1c5b8d42",
   "metadata": {},
   "outputs": [
    {
     "data": {
      "text/plain": [
       "'kapoil'"
      ]
     },
     "execution_count": 3,
     "metadata": {},
     "output_type": "execute_result"
    }
   ],
   "source": [
    "R1.strip()"
   ]
  },
  {
   "cell_type": "markdown",
   "id": "4a323ce5-184b-4890-b1cb-edc1963de277",
   "metadata": {},
   "source": [
    "Write a Python program that converts temperature from Celsius to Fahrenheit. Take the temperature in Celsius as input, store it in a variable, convert it to Fahrenheit, and display the result."
   ]
  },
  {
   "cell_type": "code",
   "execution_count": 5,
   "id": "50419c58-3df8-4b07-8b55-a3e8983636e6",
   "metadata": {},
   "outputs": [],
   "source": [
    "c=80"
   ]
  },
  {
   "cell_type": "code",
   "execution_count": 6,
   "id": "6c6d9516-0bef-459e-8002-a41614d07da3",
   "metadata": {},
   "outputs": [],
   "source": [
    "c1=(1.8 * c ) + 32"
   ]
  },
  {
   "cell_type": "code",
   "execution_count": 7,
   "id": "39ed58fb-9b02-422a-b7af-0096b9598bdf",
   "metadata": {},
   "outputs": [
    {
     "data": {
      "text/plain": [
       "176.0"
      ]
     },
     "execution_count": 7,
     "metadata": {},
     "output_type": "execute_result"
    }
   ],
   "source": [
    "c1"
   ]
  },
  {
   "cell_type": "markdown",
   "id": "c98c3070-a5c0-41ea-aa25-80a387b6fa59",
   "metadata": {},
   "source": [
    "Given a string, reverse the order of characters using string slicing and print the reversed string."
   ]
  },
  {
   "cell_type": "code",
   "execution_count": 8,
   "id": "17b603c4-6f04-41f7-ba68-4d77ebf0ee17",
   "metadata": {},
   "outputs": [],
   "source": [
    "k1 = \"KAPIL\""
   ]
  },
  {
   "cell_type": "code",
   "execution_count": 9,
   "id": "4cf502e0-cafc-4fba-8b97-5111c5f702b2",
   "metadata": {},
   "outputs": [
    {
     "data": {
      "text/plain": [
       "'LIPAK'"
      ]
     },
     "execution_count": 9,
     "metadata": {},
     "output_type": "execute_result"
    }
   ],
   "source": [
    "k1[: : -1]"
   ]
  },
  {
   "cell_type": "code",
   "execution_count": 11,
   "id": "399eacce-adc7-4df6-9a24-cb20222cb094",
   "metadata": {},
   "outputs": [],
   "source": [
    "l1=[1,2,3,4,5,6]"
   ]
  },
  {
   "cell_type": "code",
   "execution_count": 12,
   "id": "18e56a38-4465-44b1-a968-7f680a6f3e32",
   "metadata": {},
   "outputs": [],
   "source": [
    "l1.reverse()"
   ]
  },
  {
   "cell_type": "code",
   "execution_count": 13,
   "id": "0d561225-f2ec-424c-b42f-d706d235fcce",
   "metadata": {},
   "outputs": [
    {
     "data": {
      "text/plain": [
       "[6, 5, 4, 3, 2, 1]"
      ]
     },
     "execution_count": 13,
     "metadata": {},
     "output_type": "execute_result"
    }
   ],
   "source": [
    "l1"
   ]
  },
  {
   "cell_type": "markdown",
   "id": "22a08bd1-aeaf-49ec-a78d-309f3a1bf3d3",
   "metadata": {},
   "source": [
    "Write a Python program that takes a string as input and prints the length of the string."
   ]
  },
  {
   "cell_type": "code",
   "execution_count": 14,
   "id": "f58b43db-056a-4f97-af8e-9bbef3f400b1",
   "metadata": {},
   "outputs": [
    {
     "data": {
      "text/plain": [
       "[6, 5, 4, 3, 2, 1]"
      ]
     },
     "execution_count": 14,
     "metadata": {},
     "output_type": "execute_result"
    }
   ],
   "source": [
    "l1"
   ]
  },
  {
   "cell_type": "code",
   "execution_count": 15,
   "id": "b133768c-5d4c-4e74-8282-7b03fef5475a",
   "metadata": {},
   "outputs": [
    {
     "data": {
      "text/plain": [
       "6"
      ]
     },
     "execution_count": 15,
     "metadata": {},
     "output_type": "execute_result"
    }
   ],
   "source": [
    "len(l1)"
   ]
  },
  {
   "cell_type": "code",
   "execution_count": 22,
   "id": "fdce2fde-19fd-47e8-95d9-15b19a191151",
   "metadata": {},
   "outputs": [],
   "source": [
    "r2=[\"kapil\",\"Sudh\"]"
   ]
  },
  {
   "cell_type": "code",
   "execution_count": 23,
   "id": "43fdf5be-0e28-441a-a6d1-8332eab91f6c",
   "metadata": {},
   "outputs": [
    {
     "data": {
      "text/plain": [
       "2"
      ]
     },
     "execution_count": 23,
     "metadata": {},
     "output_type": "execute_result"
    }
   ],
   "source": [
    "len(r2)"
   ]
  },
  {
   "cell_type": "markdown",
   "id": "70abbd2a-cfb4-4742-9836-6ae2cf8cef6f",
   "metadata": {},
   "source": [
    "Create a program that calculates the area of a rectangle. Take the length and\n",
    "width as inputs from the user and store them in variables. Calculate and\n",
    "display the area."
   ]
  },
  {
   "cell_type": "code",
   "execution_count": 24,
   "id": "49e27fdf-4bbb-47ed-aadb-0a0e4fbc23e7",
   "metadata": {},
   "outputs": [],
   "source": [
    "l1=[\"length\"]"
   ]
  },
  {
   "cell_type": "code",
   "execution_count": 25,
   "id": "91332fac-d779-412b-9a3f-011b7c96ccf4",
   "metadata": {},
   "outputs": [],
   "source": [
    "l2=[\"width\"]"
   ]
  },
  {
   "cell_type": "code",
   "execution_count": 26,
   "id": "8d202160-cdf2-4ed7-b7b6-9acb2b6cab6d",
   "metadata": {},
   "outputs": [],
   "source": [
    "l1=20\n"
   ]
  },
  {
   "cell_type": "code",
   "execution_count": 27,
   "id": "db02e7b5-3fee-4480-a1fc-b622f5717e73",
   "metadata": {},
   "outputs": [],
   "source": [
    "l2=20"
   ]
  },
  {
   "cell_type": "code",
   "execution_count": 28,
   "id": "1963d644-8816-4a8f-9318-e1785741b70f",
   "metadata": {},
   "outputs": [],
   "source": [
    "A = [\"Area of reactangle \"]"
   ]
  },
  {
   "cell_type": "code",
   "execution_count": 29,
   "id": "5a7a56ba-27ce-47dc-8d1e-fb6040f9132f",
   "metadata": {},
   "outputs": [],
   "source": [
    "A= l1 *l2"
   ]
  },
  {
   "cell_type": "code",
   "execution_count": 31,
   "id": "88e792eb-ad9a-4a2f-9b95-96b41905aadc",
   "metadata": {},
   "outputs": [
    {
     "data": {
      "text/plain": [
       "400"
      ]
     },
     "execution_count": 31,
     "metadata": {},
     "output_type": "execute_result"
    }
   ],
   "source": [
    "A"
   ]
  },
  {
   "cell_type": "markdown",
   "id": "91c6172e-e224-421e-9fa3-8a8c1b36488b",
   "metadata": {},
   "source": [
    "Declare two variables, `x` and `y`, and assign them integer values. Swap the\n",
    "values of these variables without using any temporary variable."
   ]
  },
  {
   "cell_type": "code",
   "execution_count": 32,
   "id": "c4fe5a38-66e1-491b-86a6-b9a85433bcfd",
   "metadata": {},
   "outputs": [],
   "source": [
    "X=10"
   ]
  },
  {
   "cell_type": "code",
   "execution_count": 33,
   "id": "f73bd815-de06-4f48-84ea-fa02bdc3b791",
   "metadata": {},
   "outputs": [],
   "source": [
    "Y=20"
   ]
  },
  {
   "cell_type": "code",
   "execution_count": 34,
   "id": "d0d4ca5d-128f-4924-903d-bc209e035497",
   "metadata": {},
   "outputs": [],
   "source": [
    "X,Y=Y,X"
   ]
  },
  {
   "cell_type": "code",
   "execution_count": 36,
   "id": "ca4b870d-e31b-4b32-a9a6-583f34284203",
   "metadata": {},
   "outputs": [
    {
     "data": {
      "text/plain": [
       "20"
      ]
     },
     "execution_count": 36,
     "metadata": {},
     "output_type": "execute_result"
    }
   ],
   "source": [
    "X"
   ]
  },
  {
   "cell_type": "code",
   "execution_count": 37,
   "id": "0e06201c-8c80-4412-8f0d-1b0e9e1fe9a3",
   "metadata": {},
   "outputs": [
    {
     "data": {
      "text/plain": [
       "10"
      ]
     },
     "execution_count": 37,
     "metadata": {},
     "output_type": "execute_result"
    }
   ],
   "source": [
    "Y"
   ]
  },
  {
   "cell_type": "code",
   "execution_count": null,
   "id": "40eacad7-b0f2-41ce-9308-81cecaae70eb",
   "metadata": {},
   "outputs": [],
   "source": []
  }
 ],
 "metadata": {
  "kernelspec": {
   "display_name": "Python 3 (ipykernel)",
   "language": "python",
   "name": "python3"
  },
  "language_info": {
   "codemirror_mode": {
    "name": "ipython",
    "version": 3
   },
   "file_extension": ".py",
   "mimetype": "text/x-python",
   "name": "python",
   "nbconvert_exporter": "python",
   "pygments_lexer": "ipython3",
   "version": "3.10.8"
  }
 },
 "nbformat": 4,
 "nbformat_minor": 5
}
